{
 "cells": [
  {
   "cell_type": "raw",
   "metadata": {},
   "source": [
    "---\n",
    "title: \"Scratchpad\"\n",
    "format: html\n",
    "---"
   ]
  },
  {
   "attachments": {},
   "cell_type": "markdown",
   "metadata": {},
   "source": [
    "# Scratching Pad for testing out code"
   ]
  },
  {
   "attachments": {},
   "cell_type": "markdown",
   "metadata": {},
   "source": [
    "::: {.callout-warning}\n",
    "Note that there are five types of callouts, including:\n",
    "`note`, `warning`, `important`, `tip`, and `caution`.\n",
    ":::"
   ]
  },
  {
   "cell_type": "code",
   "execution_count": 1,
   "metadata": {},
   "outputs": [],
   "source": [
    "%load_ext jupyter_ai_magics\n"
   ]
  },
  {
   "cell_type": "code",
   "execution_count": 2,
   "metadata": {},
   "outputs": [
    {
     "name": "stdout",
     "output_type": "stream",
     "text": [
      "0.0.159\n"
     ]
    }
   ],
   "source": [
    "import langchain\n",
    "print(langchain.__version__)"
   ]
  },
  {
   "cell_type": "code",
   "execution_count": 3,
   "metadata": {},
   "outputs": [
    {
     "data": {
      "text/markdown": [
       "I'm sorry, as an AI language model, I cannot control the formatting of my text output. However, here are some tips on how to stay focused while writing a PhD thesis:\n",
       "\n",
       "1. Set a reasonable schedule: It's important to establish a routine that works for you, whether it's writing for a certain number of hours each day, or meeting a daily word count goal. Make sure to give yourself breaks and time for relaxation, too.\n",
       "\n",
       "2. Break down the work: A PhD thesis is a huge project, so it's helpful to break it down into smaller, more manageable tasks. This can prevent you from feeling overwhelmed and help you stay focused on specific goals.\n",
       "\n",
       "3. Create a distraction-free environment: Find a quiet place to work, free from distractions like social media, television, or other people. You may also want to use tools like noise-cancelling headphones or a website blocker to help you stay focused.\n",
       "\n",
       "4. Take care of your physical and mental health: It's important to take care of yourself while working on a PhD thesis, as this can directly impact your ability to focus and produce quality work. Make sure to eat healthy, exercise regularly, and get enough rest. Taking care of your mental health is important as well, such as taking breaks and talking to someone if you're feeling overwhelmed.\n",
       "\n",
       "5. Stay motivated: Remember why you started the project and the importance of the work you're doing. Reward yourself for accomplishments, and find ways to stay motivated, such as reading inspirational quotes or listening to music that helps you focus."
      ],
      "text/plain": [
       "<IPython.core.display.Markdown object>"
      ]
     },
     "execution_count": 3,
     "metadata": {
      "text/markdown": {
       "jupyter_ai": {
        "model_id": "gpt-3.5-turbo",
        "provider_id": "openai-chat"
       }
      }
     },
     "output_type": "execute_result"
    }
   ],
   "source": [
    "%%ai chatgpt\n",
    "Tell me how to be focused on writing a PhD thesis."
   ]
  },
  {
   "attachments": {},
   "cell_type": "markdown",
   "metadata": {},
   "source": [
    "::: {.callout-note}\n",
    "Note that there are five types of callouts, including:\n",
    "`note`, `warning`, `important`, `tip`, and `caution`.\n",
    ":::"
   ]
  }
 ],
 "metadata": {
  "kernelspec": {
   "display_name": "conda-poirot-3.10",
   "language": "python",
   "name": "python3"
  },
  "language_info": {
   "codemirror_mode": {
    "name": "ipython",
    "version": 3
   },
   "file_extension": ".py",
   "mimetype": "text/x-python",
   "name": "python",
   "nbconvert_exporter": "python",
   "pygments_lexer": "ipython3",
   "version": "3.11.3"
  },
  "orig_nbformat": 4
 },
 "nbformat": 4,
 "nbformat_minor": 2
}
