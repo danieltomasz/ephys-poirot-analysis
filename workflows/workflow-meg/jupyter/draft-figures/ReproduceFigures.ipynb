{
 "cells": [
  {
   "cell_type": "raw",
   "metadata": {},
   "source": [
    "---\n",
    "title: \"Untitled\"\n",
    "format: html\n",
    "---"
   ]
  },
  {
   "attachments": {},
   "cell_type": "markdown",
   "metadata": {},
   "source": [
    "# Main analysis\n",
    "\n",
    "The idea for this analysis is just to have a working example of how the estimates of aperiodic parameters are different during sound stimulation and in the resting state. \n",
    "\n",
    "The "
   ]
  }
 ],
 "metadata": {
  "language_info": {
   "name": "python"
  },
  "orig_nbformat": 4
 },
 "nbformat": 4,
 "nbformat_minor": 2
}
