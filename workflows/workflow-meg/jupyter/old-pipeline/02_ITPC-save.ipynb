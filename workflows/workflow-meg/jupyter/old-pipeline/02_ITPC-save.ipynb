{
 "cells": [
  {
   "cell_type": "markdown",
   "id": "2a90305f-3cd7-45bb-a24f-2a0f69dece84",
   "metadata": {
    "tags": [],
    "toc-hr-collapsed": true
   },
   "source": [
    "# Load libraries and function"
   ]
  },
  {
   "cell_type": "code",
   "execution_count": 1,
   "id": "fc64b16b-ba64-410e-bf1c-88c221984a5d",
   "metadata": {},
   "outputs": [],
   "source": [
    "%config Completer.use_jedi = False"
   ]
  },
  {
   "cell_type": "code",
   "execution_count": 2,
   "id": "bf6379c7-26d7-4aaa-ae43-11234bfcc440",
   "metadata": {},
   "outputs": [],
   "source": [
    "%load_ext autoreload\n",
    "%autoreload 2"
   ]
  },
  {
   "cell_type": "code",
   "execution_count": 3,
   "id": "0986834b-0484-4cc4-a04d-28f5c8f271b3",
   "metadata": {
    "lines_to_next_cell": 0
   },
   "outputs": [],
   "source": [
    "import mne\n",
    "import numpy as np\n",
    "import matplotlib.pyplot as plt\n",
    "import os\n",
    "import xarray as xr\n",
    "xr.set_options(display_style=\"html\")\n",
    "\n",
    "from pathlib import Path\n",
    "import scipy.io  as sio\n",
    "import numpy as np\n",
    "import pandas as pd\n",
    "from matplotlib import animation as ani, pyplot as plt\n",
    "\n",
    "import re\n",
    "\n",
    "from tensorpac.utils import ITC\n",
    "from tqdm.notebook import tqdm\n",
    "import logging\n",
    "import sys\n",
    "import pickle\n",
    "\n",
    "def get_project_root() -> Path:\n",
    "    \"\"\"Return a base path of current folder, similar to R packege 'here'.\n",
    "        \n",
    "    Returns:\n",
    "        Path: Path object pointing to the parent of the folder where the script is located.\n",
    "            If your script is `/root/scripts/script.py`, the result will be an absolute path '/root'.\n",
    "    \"\"\"\n",
    "    try:\n",
    "        return Path(__file__).parent.parent\n",
    "    except NameError as error:\n",
    "        # This will give you  root folder of the project if this runned through jupyter notebook\n",
    "        return Path().joinpath().absolute().parents[0]\n",
    "    except Exception as exception:\n",
    "        print(exception)"
   ]
  },
  {
   "cell_type": "code",
   "execution_count": null,
   "id": "90d90301-8597-462c-ad8c-57a6fd2031a1",
   "metadata": {},
   "outputs": [],
   "source": []
  },
  {
   "cell_type": "markdown",
   "id": "5249ce1b-f96c-4e3b-8f9b-29b2accee9af",
   "metadata": {
    "tags": [],
    "toc-hr-collapsed": true
   },
   "source": [
    "# Work with xarray"
   ]
  },
  {
   "cell_type": "markdown",
   "id": "ed49d942-3b8b-49a3-aec9-89a332c688cc",
   "metadata": {},
   "source": [
    "Before I exported ROIS from Brainstorm to one of folders, now I am loading the files into the list. I am  also checking some properties of the imported data (it is imported as a dict structure, I wrote custom function to parse that dict)                                                            "
   ]
  },
  {
   "cell_type": "code",
   "execution_count": 4,
   "id": "c7bc9e13-0f92-4633-b45a-475b42f6ec9f",
   "metadata": {},
   "outputs": [],
   "source": [
    "def get_real_names(row_names):\n",
    "\n",
    "    row_names=  [l.flatten()[0] for l in row_names.flatten()] #flatten\n",
    "    scout_names = [i.split(\" @ \")[0] for i in row_names]\n",
    "    subject  = [i.split(\" @ \")[1].split(\"/\")[0] for i in row_names]\n",
    "    condition  = [i.split(\" @ \")[1].split(\"/\")[1] for i in row_names]\n",
    "    trial= [i.split(\" @ \")[1].split(\"/\")[2] for i in row_names] \n",
    "    numbers = [re.findall(\"\\d+\", i)[0] for i in trial]\n",
    "    trials= [int(i) for i in numbers]\n",
    "    subject_cond = [x.split( \"_\", 3)[3] for x in condition]\n",
    "\n",
    "    frame = { 'scout_names' : scout_names, 'subject': subject,'subject_cond':subject_cond, 'trial_str': trial, 'trial': trials  }\n",
    "    return pd.DataFrame(frame)\n"
   ]
  },
  {
   "cell_type": "code",
   "execution_count": 5,
   "id": "8baaba03-6527-48c6-bd4c-b539817f1c6f",
   "metadata": {},
   "outputs": [
    {
     "data": {
      "text/plain": [
       "[PosixPath('/Volumes/ExtremePro/tDCS/Preprocessed/tDCS_MEG/matrix_scout_210723_0412.mat'),\n",
       " PosixPath('/Volumes/ExtremePro/tDCS/Preprocessed/tDCS_MEG/matrix_scout_210723_0515.mat'),\n",
       " PosixPath('/Volumes/ExtremePro/tDCS/Preprocessed/tDCS_MEG/matrix_scout_210723_0311.mat'),\n",
       " PosixPath('/Volumes/ExtremePro/tDCS/Preprocessed/tDCS_MEG/matrix_scout_210723_0315.mat'),\n",
       " PosixPath('/Volumes/ExtremePro/tDCS/Preprocessed/tDCS_MEG/matrix_scout_210723_0320.mat'),\n",
       " PosixPath('/Volumes/ExtremePro/tDCS/Preprocessed/tDCS_MEG/matrix_scout_210723_0324.mat'),\n",
       " PosixPath('/Volumes/ExtremePro/tDCS/Preprocessed/tDCS_MEG/matrix_scout_210723_0327.mat'),\n",
       " PosixPath('/Volumes/ExtremePro/tDCS/Preprocessed/tDCS_MEG/matrix_scout_210723_0331.mat'),\n",
       " PosixPath('/Volumes/ExtremePro/tDCS/Preprocessed/tDCS_MEG/matrix_scout_210723_0336.mat'),\n",
       " PosixPath('/Volumes/ExtremePro/tDCS/Preprocessed/tDCS_MEG/matrix_scout_210723_0340.mat'),\n",
       " PosixPath('/Volumes/ExtremePro/tDCS/Preprocessed/tDCS_MEG/matrix_scout_210723_0345.mat'),\n",
       " PosixPath('/Volumes/ExtremePro/tDCS/Preprocessed/tDCS_MEG/matrix_scout_210723_0350.mat'),\n",
       " PosixPath('/Volumes/ExtremePro/tDCS/Preprocessed/tDCS_MEG/matrix_scout_210723_0355.mat'),\n",
       " PosixPath('/Volumes/ExtremePro/tDCS/Preprocessed/tDCS_MEG/matrix_scout_210723_0400.mat'),\n",
       " PosixPath('/Volumes/ExtremePro/tDCS/Preprocessed/tDCS_MEG/matrix_scout_210723_0404.mat'),\n",
       " PosixPath('/Volumes/ExtremePro/tDCS/Preprocessed/tDCS_MEG/matrix_scout_210723_0408.mat'),\n",
       " PosixPath('/Volumes/ExtremePro/tDCS/Preprocessed/tDCS_MEG/matrix_scout_210723_0416.mat'),\n",
       " PosixPath('/Volumes/ExtremePro/tDCS/Preprocessed/tDCS_MEG/matrix_scout_210723_0420.mat'),\n",
       " PosixPath('/Volumes/ExtremePro/tDCS/Preprocessed/tDCS_MEG/matrix_scout_210723_0424.mat'),\n",
       " PosixPath('/Volumes/ExtremePro/tDCS/Preprocessed/tDCS_MEG/matrix_scout_210723_0428.mat'),\n",
       " PosixPath('/Volumes/ExtremePro/tDCS/Preprocessed/tDCS_MEG/matrix_scout_210723_0432.mat'),\n",
       " PosixPath('/Volumes/ExtremePro/tDCS/Preprocessed/tDCS_MEG/matrix_scout_210723_0437.mat'),\n",
       " PosixPath('/Volumes/ExtremePro/tDCS/Preprocessed/tDCS_MEG/matrix_scout_210723_0441.mat'),\n",
       " PosixPath('/Volumes/ExtremePro/tDCS/Preprocessed/tDCS_MEG/matrix_scout_210723_0446.mat'),\n",
       " PosixPath('/Volumes/ExtremePro/tDCS/Preprocessed/tDCS_MEG/matrix_scout_210723_0450.mat'),\n",
       " PosixPath('/Volumes/ExtremePro/tDCS/Preprocessed/tDCS_MEG/matrix_scout_210723_0454.mat'),\n",
       " PosixPath('/Volumes/ExtremePro/tDCS/Preprocessed/tDCS_MEG/matrix_scout_210723_0458.mat'),\n",
       " PosixPath('/Volumes/ExtremePro/tDCS/Preprocessed/tDCS_MEG/matrix_scout_210723_0502.mat'),\n",
       " PosixPath('/Volumes/ExtremePro/tDCS/Preprocessed/tDCS_MEG/matrix_scout_210723_0507.mat'),\n",
       " PosixPath('/Volumes/ExtremePro/tDCS/Preprocessed/tDCS_MEG/matrix_scout_210723_0511.mat'),\n",
       " PosixPath('/Volumes/ExtremePro/tDCS/Preprocessed/tDCS_MEG/matrix_scout_210723_0520.mat'),\n",
       " PosixPath('/Volumes/ExtremePro/tDCS/Preprocessed/tDCS_MEG/matrix_scout_210723_0524.mat'),\n",
       " PosixPath('/Volumes/ExtremePro/tDCS/Preprocessed/tDCS_MEG/matrix_scout_210723_0528.mat'),\n",
       " PosixPath('/Volumes/ExtremePro/tDCS/Preprocessed/tDCS_MEG/matrix_scout_210723_0532.mat'),\n",
       " PosixPath('/Volumes/ExtremePro/tDCS/Preprocessed/tDCS_MEG/matrix_scout_210723_0536.mat'),\n",
       " PosixPath('/Volumes/ExtremePro/tDCS/Preprocessed/tDCS_MEG/matrix_scout_210723_0540.mat'),\n",
       " PosixPath('/Volumes/ExtremePro/tDCS/Preprocessed/tDCS_MEG/matrix_scout_210723_0544.mat'),\n",
       " PosixPath('/Volumes/ExtremePro/tDCS/Preprocessed/tDCS_MEG/matrix_scout_210723_0548.mat'),\n",
       " PosixPath('/Volumes/ExtremePro/tDCS/Preprocessed/tDCS_MEG/matrix_scout_210723_0553.mat'),\n",
       " PosixPath('/Volumes/ExtremePro/tDCS/Preprocessed/tDCS_MEG/matrix_scout_210723_0557.mat'),\n",
       " PosixPath('/Volumes/ExtremePro/tDCS/Preprocessed/tDCS_MEG/matrix_scout_210723_0601.mat'),\n",
       " PosixPath('/Volumes/ExtremePro/tDCS/Preprocessed/tDCS_MEG/matrix_scout_210723_0606.mat'),\n",
       " PosixPath('/Volumes/ExtremePro/tDCS/Preprocessed/tDCS_MEG/matrix_scout_210723_0610.mat'),\n",
       " PosixPath('/Volumes/ExtremePro/tDCS/Preprocessed/tDCS_MEG/matrix_scout_210723_0614.mat'),\n",
       " PosixPath('/Volumes/ExtremePro/tDCS/Preprocessed/tDCS_MEG/matrix_scout_210723_0619.mat'),\n",
       " PosixPath('/Volumes/ExtremePro/tDCS/Preprocessed/tDCS_MEG/matrix_scout_210723_0623.mat'),\n",
       " PosixPath('/Volumes/ExtremePro/tDCS/Preprocessed/tDCS_MEG/matrix_scout_210723_0627.mat'),\n",
       " PosixPath('/Volumes/ExtremePro/tDCS/Preprocessed/tDCS_MEG/matrix_scout_210723_0632.mat'),\n",
       " PosixPath('/Volumes/ExtremePro/tDCS/Preprocessed/tDCS_MEG/matrix_scout_210723_0636.mat'),\n",
       " PosixPath('/Volumes/ExtremePro/tDCS/Preprocessed/tDCS_MEG/matrix_scout_210723_0640.mat'),\n",
       " PosixPath('/Volumes/ExtremePro/tDCS/Preprocessed/tDCS_MEG/matrix_scout_210723_0644.mat'),\n",
       " PosixPath('/Volumes/ExtremePro/tDCS/Preprocessed/tDCS_MEG/matrix_scout_210723_0648.mat'),\n",
       " PosixPath('/Volumes/ExtremePro/tDCS/Preprocessed/tDCS_MEG/matrix_scout_210723_0652.mat'),\n",
       " PosixPath('/Volumes/ExtremePro/tDCS/Preprocessed/tDCS_MEG/matrix_scout_210723_0657.mat'),\n",
       " PosixPath('/Volumes/ExtremePro/tDCS/Preprocessed/tDCS_MEG/matrix_scout_210723_0701.mat'),\n",
       " PosixPath('/Volumes/ExtremePro/tDCS/Preprocessed/tDCS_MEG/matrix_scout_210723_0705.mat')]"
      ]
     },
     "execution_count": 5,
     "metadata": {},
     "output_type": "execute_result"
    }
   ],
   "source": [
    "\n",
    "folder = '/Volumes/ExtremePro/tDCS/Preprocessed/tDCS_MEG'\n",
    "files =  [x for x in Path(folder).glob(\"*.mat\")]\n",
    "#files = files[:1]\n",
    "files"
   ]
  },
  {
   "cell_type": "code",
   "execution_count": 6,
   "id": "c2196779-57de-44e0-9010-7b2baf5a8554",
   "metadata": {},
   "outputs": [
    {
     "name": "stdout",
     "output_type": "stream",
     "text": [
      "/Volumes/ExtremePro/tDCS/Preprocessed/tDCS_MEG/matrix_scout_210723_0412.mat\n",
      "/Volumes/ExtremePro/tDCS/Preprocessed/tDCS_MEG/matrix_scout_210723_0515.mat\n",
      "/Volumes/ExtremePro/tDCS/Preprocessed/tDCS_MEG/matrix_scout_210723_0311.mat\n",
      "/Volumes/ExtremePro/tDCS/Preprocessed/tDCS_MEG/matrix_scout_210723_0315.mat\n",
      "/Volumes/ExtremePro/tDCS/Preprocessed/tDCS_MEG/matrix_scout_210723_0320.mat\n",
      "/Volumes/ExtremePro/tDCS/Preprocessed/tDCS_MEG/matrix_scout_210723_0324.mat\n",
      "/Volumes/ExtremePro/tDCS/Preprocessed/tDCS_MEG/matrix_scout_210723_0327.mat\n",
      "/Volumes/ExtremePro/tDCS/Preprocessed/tDCS_MEG/matrix_scout_210723_0331.mat\n",
      "/Volumes/ExtremePro/tDCS/Preprocessed/tDCS_MEG/matrix_scout_210723_0336.mat\n",
      "/Volumes/ExtremePro/tDCS/Preprocessed/tDCS_MEG/matrix_scout_210723_0340.mat\n",
      "/Volumes/ExtremePro/tDCS/Preprocessed/tDCS_MEG/matrix_scout_210723_0345.mat\n",
      "/Volumes/ExtremePro/tDCS/Preprocessed/tDCS_MEG/matrix_scout_210723_0350.mat\n",
      "/Volumes/ExtremePro/tDCS/Preprocessed/tDCS_MEG/matrix_scout_210723_0355.mat\n",
      "/Volumes/ExtremePro/tDCS/Preprocessed/tDCS_MEG/matrix_scout_210723_0400.mat\n",
      "/Volumes/ExtremePro/tDCS/Preprocessed/tDCS_MEG/matrix_scout_210723_0404.mat\n",
      "/Volumes/ExtremePro/tDCS/Preprocessed/tDCS_MEG/matrix_scout_210723_0408.mat\n",
      "/Volumes/ExtremePro/tDCS/Preprocessed/tDCS_MEG/matrix_scout_210723_0416.mat\n",
      "/Volumes/ExtremePro/tDCS/Preprocessed/tDCS_MEG/matrix_scout_210723_0420.mat\n",
      "/Volumes/ExtremePro/tDCS/Preprocessed/tDCS_MEG/matrix_scout_210723_0424.mat\n",
      "/Volumes/ExtremePro/tDCS/Preprocessed/tDCS_MEG/matrix_scout_210723_0428.mat\n",
      "/Volumes/ExtremePro/tDCS/Preprocessed/tDCS_MEG/matrix_scout_210723_0432.mat\n",
      "/Volumes/ExtremePro/tDCS/Preprocessed/tDCS_MEG/matrix_scout_210723_0437.mat\n",
      "/Volumes/ExtremePro/tDCS/Preprocessed/tDCS_MEG/matrix_scout_210723_0441.mat\n",
      "/Volumes/ExtremePro/tDCS/Preprocessed/tDCS_MEG/matrix_scout_210723_0446.mat\n",
      "/Volumes/ExtremePro/tDCS/Preprocessed/tDCS_MEG/matrix_scout_210723_0450.mat\n",
      "/Volumes/ExtremePro/tDCS/Preprocessed/tDCS_MEG/matrix_scout_210723_0454.mat\n",
      "/Volumes/ExtremePro/tDCS/Preprocessed/tDCS_MEG/matrix_scout_210723_0458.mat\n",
      "/Volumes/ExtremePro/tDCS/Preprocessed/tDCS_MEG/matrix_scout_210723_0502.mat\n",
      "/Volumes/ExtremePro/tDCS/Preprocessed/tDCS_MEG/matrix_scout_210723_0507.mat\n",
      "/Volumes/ExtremePro/tDCS/Preprocessed/tDCS_MEG/matrix_scout_210723_0511.mat\n",
      "/Volumes/ExtremePro/tDCS/Preprocessed/tDCS_MEG/matrix_scout_210723_0520.mat\n",
      "/Volumes/ExtremePro/tDCS/Preprocessed/tDCS_MEG/matrix_scout_210723_0524.mat\n",
      "/Volumes/ExtremePro/tDCS/Preprocessed/tDCS_MEG/matrix_scout_210723_0528.mat\n",
      "/Volumes/ExtremePro/tDCS/Preprocessed/tDCS_MEG/matrix_scout_210723_0532.mat\n",
      "/Volumes/ExtremePro/tDCS/Preprocessed/tDCS_MEG/matrix_scout_210723_0536.mat\n",
      "/Volumes/ExtremePro/tDCS/Preprocessed/tDCS_MEG/matrix_scout_210723_0540.mat\n",
      "/Volumes/ExtremePro/tDCS/Preprocessed/tDCS_MEG/matrix_scout_210723_0544.mat\n",
      "/Volumes/ExtremePro/tDCS/Preprocessed/tDCS_MEG/matrix_scout_210723_0548.mat\n",
      "/Volumes/ExtremePro/tDCS/Preprocessed/tDCS_MEG/matrix_scout_210723_0553.mat\n",
      "/Volumes/ExtremePro/tDCS/Preprocessed/tDCS_MEG/matrix_scout_210723_0557.mat\n",
      "/Volumes/ExtremePro/tDCS/Preprocessed/tDCS_MEG/matrix_scout_210723_0601.mat\n",
      "/Volumes/ExtremePro/tDCS/Preprocessed/tDCS_MEG/matrix_scout_210723_0606.mat\n",
      "/Volumes/ExtremePro/tDCS/Preprocessed/tDCS_MEG/matrix_scout_210723_0610.mat\n",
      "/Volumes/ExtremePro/tDCS/Preprocessed/tDCS_MEG/matrix_scout_210723_0614.mat\n",
      "/Volumes/ExtremePro/tDCS/Preprocessed/tDCS_MEG/matrix_scout_210723_0619.mat\n",
      "/Volumes/ExtremePro/tDCS/Preprocessed/tDCS_MEG/matrix_scout_210723_0623.mat\n",
      "/Volumes/ExtremePro/tDCS/Preprocessed/tDCS_MEG/matrix_scout_210723_0627.mat\n",
      "/Volumes/ExtremePro/tDCS/Preprocessed/tDCS_MEG/matrix_scout_210723_0632.mat\n",
      "/Volumes/ExtremePro/tDCS/Preprocessed/tDCS_MEG/matrix_scout_210723_0636.mat\n",
      "/Volumes/ExtremePro/tDCS/Preprocessed/tDCS_MEG/matrix_scout_210723_0640.mat\n"
     ]
    },
    {
     "ename": "",
     "evalue": "",
     "output_type": "error",
     "traceback": [
      "\u001b[1;31mThe Kernel crashed while executing code in the the current cell or a previous cell. Please review the code in the cell(s) to identify a possible cause of the failure. Click <a href='https://aka.ms/vscodeJupyterKernelCrash'>here</a> for more info. View Jupyter <a href='command:jupyter.viewOutput'>log</a> for further details."
     ]
    },
    {
     "ename": "",
     "evalue": "",
     "output_type": "error",
     "traceback": [
      "\u001b[1;31mCanceled future for execute_request message before replies were done"
     ]
    }
   ],
   "source": [
    "Values = []\n",
    "Descriptions = []\n",
    "\n",
    "for file in files:\n",
    "    print(file)\n",
    "    mat_content = sio.loadmat(file )\n",
    "    Time = mat_content[\"Time\"]\n",
    "    Values.append(mat_content[\"Value\"])\n",
    "    Descriptions.append(get_real_names(mat_content[\"Description\"]))\n",
    "display(Descriptions[0])\n",
    "display(Values[0].shape)   \n",
    "    "
   ]
  },
  {
   "cell_type": "markdown",
   "id": "4126336a-92a8-4e97-91fc-d95fd75f0e55",
   "metadata": {
    "tags": []
   },
   "source": [
    "## Create  xarray object"
   ]
  },
  {
   "cell_type": "markdown",
   "id": "7923edeb-8dd6-4d5f-9dda-6752149bf255",
   "metadata": {},
   "source": [
    "I loading the data from matlab structure here and I am creating a custom structure to hold it using `xarray` package.\n",
    "The mat file has intertwined trials and ROIS (we could see above the structure in `Descriptions` dataframe.\n",
    "After reshaping and transpoition the structure has dims `scout names` x `trial` x `times`. "
   ]
  },
  {
   "cell_type": "code",
   "execution_count": 16,
   "id": "1ec6b89e-4fa3-4e24-8f46-e88a3c6eb4b3",
   "metadata": {},
   "outputs": [
    {
     "data": {
      "text/plain": [
       "array([[11., 11., 11.],\n",
       "       [21., 21., 21.],\n",
       "       [31., 31., 31.],\n",
       "       [12., 12., 12.],\n",
       "       [22., 22., 22.],\n",
       "       [32., 32., 32.]])"
      ]
     },
     "metadata": {},
     "output_type": "display_data"
    },
    {
     "data": {
      "text/plain": [
       "array([[[11., 11., 11.],\n",
       "        [21., 21., 21.],\n",
       "        [31., 31., 31.]],\n",
       "\n",
       "       [[12., 12., 12.],\n",
       "        [22., 22., 22.],\n",
       "        [32., 32., 32.]]])"
      ]
     },
     "metadata": {},
     "output_type": "display_data"
    }
   ],
   "source": [
    "# Here is simple test how nmpy reshape behave I am playing here with reshaping \n",
    "test_array = np.array([[11. ,11. ,11.], [21. ,21. ,21.],[31. ,31. ,31.],[12. ,12. ,12.], [22. ,22. ,22.],[32. ,32. ,32.]])\n",
    "display(test_array)\n",
    "number_rois = 3; number_trials  = 2 # 2 triale, 3 rois\n",
    "reshaped_array = np.reshape(test_array, (-1, number_rois, 3))\n",
    "display(reshaped_array)"
   ]
  },
  {
   "cell_type": "code",
   "execution_count": 23,
   "id": "52b1e633-cb35-4a7a-b1fc-ffa28a7f451d",
   "metadata": {
    "lines_to_next_cell": 0
   },
   "outputs": [],
   "source": [
    "# TODO check if row__names contain only expected dat\n",
    "\n",
    "def create_dataaray(mat_content : dict): \n",
    "    \"\"\"A simple function to  create an DataArray object\"\"\"\n",
    "\n",
    "    #display(mat_content)\n",
    "    Time = mat_content[\"Time\"]\n",
    "    result = get_real_names(mat_content[\"Description\"])\n",
    "    scout_names = list(result[\"scout_names\"].unique())\n",
    "    trials = list(result[\"trial\"].unique())\n",
    "    subject = list(result[\"subject\"].unique())[0]\n",
    "    subject_cond = list(result[\"subject_cond\"].unique())[0]\n",
    "    attrs={'sfreq': 600, 'subject': subject, 'subject_cond': subject_cond}\n",
    "    Value = mat_content[\"Value\"]\n",
    "    reshaped_timeseries = np.reshape(Value, (-1, len(scout_names), len(Time[0])))\n",
    "\n",
    "    da = xr.DataArray(\n",
    "    reshaped_timeseries,\n",
    "    dims=[ 'trial','scout_names' ,'time'],\n",
    "    coords={\n",
    "        'trial': trials,\n",
    "        'scout_names': scout_names,\n",
    "        'time': Time[0]\n",
    "    },\n",
    "    name= subject,\n",
    "    attrs=attrs)\n",
    "    \n",
    "    return da.transpose('scout_names', 'trial', 'time')"
   ]
  },
  {
   "cell_type": "markdown",
   "id": "8ab428a8-4941-4388-acda-2d0e0af9e4f9",
   "metadata": {},
   "source": [
    "Below are some functions that can by applied to xarray object. Ideas was taken from  [Chris Holdgraf  blog](https://predictablynoisy.com/posts/2019/2019-10-22-xarray-neuro/#de-meaning-the-data-with-da-where)."
   ]
  },
  {
   "cell_type": "code",
   "execution_count": 1,
   "id": "ab9a3b7a-058a-413a-bc07-fd5a29ff337c",
   "metadata": {},
   "outputs": [],
   "source": [
    "def plot_xarray(temp):\n",
    "    fig, ax = plt.subplots(figsize=(20, 5))\n",
    "    n_channels = da['scout_names'].shape[0]\n",
    "    ax.set_prop_cycle(color=plt.cm.viridis(np.linspace(0, 1, n_channels)))\n",
    "    temp.mean(dim='trial').plot.line(x='time', hue='scout_names')\n",
    "    ax.get_legend().remove()\n",
    "\n",
    "def plot_imshow(data, title ):\n",
    "    #fig, ax = plt.subplots(figsize=(20, 5))\n",
    "    #ax.set_prop_cycle(color=plt.cm.viridis(np.linspace(0, 1, n_channels)))\n",
    "    fig, ax = plt.subplots(figsize=(20,10))\n",
    "    cs  = ax.imshow(data, interpolation='none', aspect='auto', extent =[-2,2, 0, 154]) \n",
    "    cbar = fig.colorbar(cs)\n",
    "    plt.title(title)\n",
    "\n",
    "    plt.show()\n",
    "    \n",
    "def filter_array(da, flow = 2,fhigh = 43):\n",
    "    da_filter = xr.apply_ufunc(\n",
    "        mne.filter.filter_data, da,\n",
    "       kwargs=dict(\n",
    "           sfreq=da.sfreq,\n",
    "           l_freq=flow,\n",
    "           h_freq=fhigh,\n",
    "           n_jobs = -1\n",
    "       )\n",
    "    ) \n",
    "    return da_filter\n",
    "\n",
    "def plot_itpc(temp):\n",
    "    fig, ax = plt.subplots(figsize=(20, 5))\n",
    "    n_channels = temp['scout_names'].shape[0]\n",
    "    ax.set_prop_cycle(color=plt.cm.viridis(np.linspace(0, 1, n_channels)))\n",
    "    temp.plot.line(x='time', hue='scout_names')\n",
    "    ax.get_legend().remove()\n",
    "    \n",
    "def highpass_filter(da, flow = 1.,fhigh = None):\n",
    "    da_filter = xr.apply_ufunc(\n",
    "        mne.filter.filter_data, da,\n",
    "       kwargs=dict(l_freq=flow, h_freq=fhigh, fir_design='firwin', verbose=False, n_jobs = -1, sfreq = 600.))\n",
    "    return da_filter\n",
    "\n"
   ]
  },
  {
   "cell_type": "markdown",
   "id": "7ea062c8-2498-4895-82f1-8347b8e21690",
   "metadata": {},
   "source": [
    "Now quick iteration how my data looks  like. In the iteration I am trying to plot the raw data and the high pass filered data too.\n"
   ]
  },
  {
   "cell_type": "markdown",
   "id": "71b170fa-d2d3-415b-ad67-9d304445dc47",
   "metadata": {
    "tags": []
   },
   "source": [
    "## Compute xarray through iteration"
   ]
  },
  {
   "cell_type": "code",
   "execution_count": 2,
   "id": "ebc0a9e3-597f-4f36-9e13-76c32ad0579d",
   "metadata": {},
   "outputs": [
    {
     "ename": "NameError",
     "evalue": "name 'Path' is not defined",
     "output_type": "error",
     "traceback": [
      "\u001b[0;31m---------------------------------------------------------------------------\u001b[0m",
      "\u001b[0;31mNameError\u001b[0m                                 Traceback (most recent call last)",
      "\u001b[1;32m/Users/daniel/PhD/Projects/meg-pipeline/pipeline/02_ITPC-save.ipynb Cell 3'\u001b[0m in \u001b[0;36m<cell line: 2>\u001b[0;34m()\u001b[0m\n\u001b[1;32m      <a href='vscode-notebook-cell:/Users/daniel/PhD/Projects/meg-pipeline/pipeline/02_ITPC-save.ipynb#ch0000002?line=0'>1</a>\u001b[0m folder \u001b[39m=\u001b[39m \u001b[39m'\u001b[39m\u001b[39m/home/daniel/Projects/MEG ASSR Analysis/meg-analysis-clean/data/preprocessed/extracted_ROIS_timeseries/tDCS_MEG\u001b[39m\u001b[39m'\u001b[39m\n\u001b[0;32m----> <a href='vscode-notebook-cell:/Users/daniel/PhD/Projects/meg-pipeline/pipeline/02_ITPC-save.ipynb#ch0000002?line=1'>2</a>\u001b[0m files \u001b[39m=\u001b[39m  [x \u001b[39mfor\u001b[39;00m x \u001b[39min\u001b[39;00m Path(folder)\u001b[39m.\u001b[39mglob(\u001b[39m\"\u001b[39m\u001b[39m*.mat\u001b[39m\u001b[39m\"\u001b[39m)]\n\u001b[1;32m      <a href='vscode-notebook-cell:/Users/daniel/PhD/Projects/meg-pipeline/pipeline/02_ITPC-save.ipynb#ch0000002?line=2'>3</a>\u001b[0m files \u001b[39m=\u001b[39m files[:\u001b[39m1\u001b[39m]\n\u001b[1;32m      <a href='vscode-notebook-cell:/Users/daniel/PhD/Projects/meg-pipeline/pipeline/02_ITPC-save.ipynb#ch0000002?line=4'>5</a>\u001b[0m datasets \u001b[39m=\u001b[39m []\n",
      "\u001b[0;31mNameError\u001b[0m: name 'Path' is not defined"
     ]
    }
   ],
   "source": [
    "folder = '/home/daniel/Projects/MEG ASSR Analysis/meg-analysis-clean/data/preprocessed/extracted_ROIS_timeseries/tDCS_MEG'\n",
    "files =  [x for x in Path(folder).glob(\"*.mat\")]\n",
    "files = files[:1]\n",
    "\n",
    "datasets = []\n",
    "datasets_filtered = []\n",
    "\n",
    "for file in files:\n",
    "    print(file)\n",
    "    mat_content = sio.loadmat(file )\n",
    "    da = create_dataaray(mat_content)\n",
    "    datasets.append(da)\n",
    "    # Plot data filtered around 40hz\n",
    "    #da_filter= highpass_filter(da, flow = 1.,fhigh = None)\n",
    "    da_filter = filter_array(da, flow = 39.,fhigh = 41)\n",
    "    datasets_filtered.append(da)\n",
    "    # Compute and plot ITPC for regions\n",
    "    "
   ]
  },
  {
   "cell_type": "markdown",
   "id": "91c81163-a711-4d34-8cca-f109ceb6f0a1",
   "metadata": {},
   "source": [
    "## Plot xarrays"
   ]
  },
  {
   "cell_type": "code",
   "execution_count": 27,
   "id": "beb84561-8988-4095-b62b-51e0c6b487cc",
   "metadata": {},
   "outputs": [],
   "source": [
    "for i, (da, da_filtered) in enumerate(zip(datasets, datasets_filtered)):\n",
    "    plot_xarray(da)\n",
    "    plot_xarray(da_filter) \n",
    "    plot_imshow(da_filter.mean(dim='trial').values)\n",
    "    #plot_imshow(output_itpc\n",
    "    plt.show()"
   ]
  },
  {
   "cell_type": "markdown",
   "id": "d8feddde-5688-4397-8e84-40da7d2741e4",
   "metadata": {},
   "source": [
    "# Compute ITPC"
   ]
  },
  {
   "cell_type": "markdown",
   "id": "016d30a6-c1e6-4a3f-a34d-33f5e937af02",
   "metadata": {},
   "source": [
    ">Both measures were estimated for the entire epoch. The investiga-\n",
    "tion of baseline differences was performed focusing on the [−1 s to 0 s]\n",
    "time window. Once ruled out baseline differences, both measures Baseline time-window was selected\n",
    "to avoid proximity to the sound and edge effects. Both z-transformed\n",
    "measures were averaged in the 300–700 ms time-window, as brain\n",
    "activity reaches a steady state after about 200 ms of 40 Hz entrainment\n",
    "\n"
   ]
  },
  {
   "cell_type": "markdown",
   "id": "2c2829d9-5f1a-441f-bf2e-ae29bb92c944",
   "metadata": {
    "tags": []
   },
   "source": [
    "## Apply functions to xarray data "
   ]
  },
  {
   "cell_type": "markdown",
   "id": "3aa9646a-1903-43a6-8adb-9f63c4e47475",
   "metadata": {},
   "source": [
    "I am ploting here the data to check them overall, I will Compute and plot the Inter-Trial Coherence (ITC) using [TensorPac library](https://etiennecmb.github.io/tensorpac/auto_examples/misc/plot_itc.html). Tensorpac provides two ways for extracting phase and amplitude :\n",
    "-  Using filtering followed by Hilbert transform.\n",
    "-  Using wavelets.\n"
   ]
  },
  {
   "cell_type": "code",
   "execution_count": 28,
   "id": "20a8e5c6-ce81-4ce1-abd7-773f4f6265d3",
   "metadata": {},
   "outputs": [],
   "source": [
    "def itpc_2d(da):\n",
    "    \"\"\"Perform a ITPC on (n_channels, n_times) array.\"\"\"\n",
    "    \n",
    "    def itpc_to_xarray(data_itpc, da):\n",
    "        \"\"\"A simple function to convert an itpc numpy array  to DataArray\"\"\"\n",
    "        itpc_array = xr.DataArray(\n",
    "        data_itpc,\n",
    "        dims=['scout_names', 'time'],\n",
    "        coords={\n",
    "            'time': da.time,\n",
    "            'scout_names': da.scout_names,\n",
    "        },\n",
    "        name=da.name,\n",
    "        attrs= da.attrs\n",
    "        )\n",
    "        return itpc_array\n",
    "\n",
    "    array = da.values.copy()\n",
    "    \n",
    "    lista_itc = [] \n",
    "    sf = 600.       # sampling frequency\n",
    "    f_min = 39      # minimum sine frequency\n",
    "    f_max = 41      # maximum sine frequency\n",
    "    #edges = 10  # remove 10 points to remove edge effects due to filtering\n",
    "    cycle = 6   # number of cycles to use to extract the phase\n",
    "    logging.disable(sys.maxsize) # Python 3\n",
    "    for ii, channel in enumerate(tqdm(array)):    \n",
    "        itc = ITC(channel, sf, f_pha=[f_min, f_max], edges=None, cycle=cycle, n_jobs=-1);\n",
    "        lista_itc.append(itc.itc)\n",
    "    logging.disable(logging.NOTSET)\n",
    "    data_itpc = np.stack(lista_itc, axis=0)\n",
    "    return itpc_to_xarray(data_itpc, da)"
   ]
  },
  {
   "cell_type": "markdown",
   "id": "f598d824-e8a8-4a2d-b7ef-fd67944fe0f2",
   "metadata": {
    "tags": []
   },
   "source": [
    "## Plot ITPC"
   ]
  },
  {
   "cell_type": "markdown",
   "id": "5fd64f10-63d1-47e2-a598-50aac93c3a7a",
   "metadata": {},
   "source": [
    "## Make a xarray form output"
   ]
  },
  {
   "cell_type": "markdown",
   "id": "8c7db50e-2f2b-4f61-8140-5282015c429c",
   "metadata": {},
   "source": [
    "https://etiennecmb.github.io/tensorpac/generated/tensorpac.utils.ITC.html"
   ]
  },
  {
   "cell_type": "markdown",
   "id": "8109a784-7178-4a41-a590-83a87822abec",
   "metadata": {},
   "source": [
    "# Combining information  together"
   ]
  },
  {
   "cell_type": "code",
   "execution_count": 29,
   "id": "8af49d22-4ac6-4b7b-9ed9-be2a74000862",
   "metadata": {},
   "outputs": [],
   "source": [
    "folder = '/media/daniel/ExtremePro1/tDCS/Preprocessed/tDCS_MEG'\n",
    "files =  [x for x in Path(folder).glob(\"*.mat\")]\n",
    "#datasets = []\n",
    "itpc_list = []\n",
    "\n",
    "for file in files:\n",
    "    print(file)\n",
    "    mat_content = sio.loadmat(file )\n",
    "    da = create_dataaray(mat_content)\n",
    "    #datasets.append(da)\n",
    "    # Plot data filtered around 40hz\n",
    "    #da_filter= highpass_filter(da, flow = 1.,fhigh = None)\n",
    "    #da_filter = filter_array(da, flow = 39.,fhigh = 41)\n",
    "    #datasets_filtered.append(da)\n",
    "    # Compute and plot ITPC for regions\n",
    "    output_itpc = itpc_2d(da)\n",
    "    itpc_list.append(output_itpc)   "
   ]
  },
  {
   "cell_type": "code",
   "execution_count": 31,
   "id": "faf9e065-0d8a-45b9-94d7-d9feb02ef30b",
   "metadata": {},
   "outputs": [],
   "source": [
    "root = get_project_root()\n",
    "filename  = Path.joinpath(root,\"data/share/ITPC\", \"list_itpc.pickle\")\n",
    "\n",
    "abspath = Path(filename).absolute()\n",
    "with open(str(abspath), 'wb') as f:\n",
    "    pickle.dump(itpc_list, f)"
   ]
  },
  {
   "cell_type": "markdown",
   "id": "ec0ae0a3-40d1-4591-addc-92a01301b98f",
   "metadata": {},
   "source": [
    "## Plotting results together"
   ]
  },
  {
   "cell_type": "code",
   "execution_count": 32,
   "id": "06969607-b7a3-4189-8b2c-cc0d40e742b9",
   "metadata": {},
   "outputs": [],
   "source": [
    "# ADD subject name to plot \n",
    "for i, item_itpc  in enumerate(itpc_list):\n",
    "    #plot_imshow(da_filter.mean(dim='trial').values)\n",
    "    plot_imshow(item_itpc.values, item_itpc.attrs[\"subject\"] )"
   ]
  },
  {
   "cell_type": "code",
   "execution_count": null,
   "id": "c2baaab1-19bd-4c37-a006-a86fc6bb1dca",
   "metadata": {},
   "outputs": [],
   "source": []
  }
 ],
 "metadata": {
  "interpreter": {
   "hash": "aa27a37fd6f24e4a94469e23a987a5df236a5f880d5875be644b84548d338d88"
  },
  "jupytext": {
   "cell_metadata_filter": "-all",
   "main_language": "python",
   "notebook_metadata_filter": "-all"
  },
  "kernelspec": {
   "display_name": "Python 3.10.4 64-bit ('cognitive-reserve-3.10.4')",
   "language": "python",
   "name": "python3"
  },
  "language_info": {
   "codemirror_mode": {
    "name": "ipython",
    "version": 3
   },
   "file_extension": ".py",
   "mimetype": "text/x-python",
   "name": "python",
   "nbconvert_exporter": "python",
   "pygments_lexer": "ipython3",
   "version": "3.10.4"
  },
  "toc-autonumbering": true,
  "toc-showcode": false,
  "toc-showmarkdowntxt": false,
  "toc-showtags": false
 },
 "nbformat": 4,
 "nbformat_minor": 5
}
