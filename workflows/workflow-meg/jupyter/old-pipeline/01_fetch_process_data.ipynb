{
 "cells": [
  {
   "cell_type": "code",
   "execution_count": 1,
   "id": "cb573b2e-bed5-4c77-94fb-a16c70500e83",
   "metadata": {
    "pycharm": {
     "name": "#%%\n"
    }
   },
   "outputs": [],
   "source": [
    "%load_ext autoreload\n",
    "%autoreload 2"
   ]
  },
  {
   "cell_type": "code",
   "execution_count": 2,
   "id": "06f90424",
   "metadata": {
    "lines_to_next_cell": 1,
    "pycharm": {
     "name": "#%%\n"
    }
   },
   "outputs": [],
   "source": [
    "\n",
    "from pathlib import Path\n",
    "import fooof\n",
    "import shutil\n",
    "from pandas.core.frame import DataFrame\n",
    "import scipy.io  as sio\n",
    "import numpy as np\n",
    "import pandas as pd\n",
    "from fooof import FOOOFGroup,  FOOOF\n",
    "\n",
    "def get_project_root() -> Path:\n",
    "    \"\"\"Return a base path of current folder, similar to R packege 'here'.\n",
    "        \n",
    "    Returns:\n",
    "        Path: Path object pointing to the parent of the folder where the script is located.\n",
    "            If your script is `/root/scripts/script.py`, the result will be an absolute path '/root'.\n",
    "    \"\"\"\n",
    "    try:\n",
    "        return Path(__file__).parent.parent\n",
    "    except NameError as error:\n",
    "        # This will give you  root folder of the project if this runned through jupyter notebook\n",
    "        return Path().joinpath().absolute().parents[0]\n",
    "    except Exception as exception:\n",
    "        print(exception)"
   ]
  },
  {
   "cell_type": "code",
   "execution_count": 4,
   "id": "1dfa8933",
   "metadata": {
    "lines_to_next_cell": 1,
    "pycharm": {
     "name": "#%%\n"
    },
    "title": "Section for working with data"
   },
   "outputs": [],
   "source": [
    "\n",
    "def process_single_recording_session(path: str) -> DataFrame:\n",
    "    \"\"\"[summary]\n",
    "\n",
    "    Args:\n",
    "        path (str): [description]\n",
    "\n",
    "    Returns:\n",
    "        DataFrame: [description]\n",
    "    \"\"\"\n",
    "\n",
    "    try:    \n",
    "        data_dict =  mat2dict_scout_psd(path)\n",
    "        freqs_data  = data_dict[\"freqs\"] \n",
    "        powers_data = data_dict[\"powers\"]\n",
    "        #plot_spectra(freqs_data, powers_data, log_powers=True)\n",
    "        peaks_df = psd_fooof(freqs_data, powers_data)\n",
    "        peaks_df = add_columns(peaks_df, data_dict)\n",
    "        return peaks_df\n",
    "    except OSError as err:\n",
    "        print(\"OS error: {0}\".format(err))\n",
    "\n",
    "\n",
    "def mat2dict_scout_psd(path: str) -> dict:\n",
    "    \"\"\"Load content of matfile containg PSD of scouts into Python dict\n",
    "\n",
    "    Args:\n",
    "        mat_content (str): Path to file, may be a string or pathlike object\n",
    "\n",
    "    Returns:\n",
    "        dict: Dictionary containing all the information  extracted from mat file\n",
    "    \"\"\"\n",
    "\n",
    "    def get_real_names(row_names):\n",
    "        row_names=  [l.flatten()[0] for l in row_names.flatten()] #flatten\n",
    "        row_names = [i.split('@')[0] for i in row_names] #delete location\n",
    "        row_names = [x.strip(' ') for x in row_names]\n",
    "        row_names = [x.replace(' ', '_') for x in row_names] #remove \n",
    "        return row_names\n",
    "\n",
    "    def split(strng, sep, pos):\n",
    "        strng = strng.split(sep)\n",
    "        return sep.join(strng[:pos]), sep.join(strng[pos:])\n",
    "\n",
    "    #print(sorted(mat_content.keys()))\n",
    "    #print(mat_content[\"TF\"])\n",
    "    mat_content = sio.loadmat(path)\n",
    "    tf = np.ndarray.squeeze(mat_content[\"TF\"])\n",
    "    row_names = mat_content[\"RowNames\"]\n",
    "    row_names = get_real_names(row_names)\n",
    "    freqs = np.ndarray.squeeze(mat_content[\"Freqs\"])\n",
    "    comment = mat_content[\"Comment\"].tolist()[0].split('|')[1]\n",
    "    subject_cond = split(comment, \"_\", 2)[0]\n",
    "    \n",
    "    resample = split(split(comment, \"_\", 5)[1],\"_\",2)[0]\n",
    "    condition = comment.split('_Destrieux_')[1]\n",
    "    data_dict = {'freqs' : freqs, 'powers' : tf, 'row_names' : row_names, 'subject_cond' : subject_cond, 'resample' : resample, 'condition': condition}\n",
    "    if len(tf)==0:\n",
    "        print (\"TF is empty\")\n",
    "    else:\n",
    "        return  data_dict  \n",
    "\n",
    "\n",
    "\n",
    "def fooof2pandas(func):\n",
    "    \"\"\"Decorator for fooof function that will transform  foood output into datafram\n",
    "\n",
    "    Args:\n",
    "        func ([type]): [description]\n",
    "    \"\"\"\n",
    "    def wrapper(*args, **kwargs):\n",
    "\n",
    "        fg = func(*args, **kwargs)\n",
    "        print('Number of model fits: ', len(fg))\n",
    "        temp_df = pd.DataFrame() # prepare error and slope dataframe\n",
    "        #temp_df['knee'] = fg.get_params('aperiodic_params', 'knee')\n",
    "        temp_df['offset'] = fg.get_params('aperiodic_params', 'offset')\n",
    "        temp_df['exponent'] = fg.get_params('aperiodic_params', 'exponent')\n",
    "\n",
    "        temp_df['errors']= fg.get_params('error')\n",
    "        temp_df['r2s']=fg.get_params('r_squared')\n",
    "        temp_df.insert(0, 'ID', temp_df.index)\n",
    "        \n",
    "        peaks = fg.get_params('peak_params') # prepare peaks dataframe\n",
    "        peaks_df = pd.DataFrame(peaks)\n",
    "        peaks_df.columns = ['CF', 'PW', 'BW', 'ID']\n",
    "        peaks_df['ID'] = peaks_df['ID'].astype(int)\n",
    "        peaks_df = peaks_df.join(temp_df.set_index('ID'), on='ID')\n",
    "        return peaks_df\n",
    "    return wrapper\n",
    "\n",
    "\n",
    "@fooof2pandas\n",
    "def psd_fooof(freqs, spectra) -> DataFrame:\n",
    "    \"\"\"Use FOOOFGroup on data\n",
    "\n",
    "    Args:\n",
    "        freqs ([type]): vector with frequencies\n",
    "        spectra ([type]): Matrix with ROIS x PSD values  #TODO check format\n",
    "\n",
    "    Returns:\n",
    "        DataFrame: Fooof values as outputed  in model\n",
    "    \"\"\"\n",
    "    fg = FOOOFGroup(peak_width_limits=[2.5, 8],min_peak_height=0.05, max_n_peaks=6)\n",
    "    fg.fit(freqs, spectra, freq_range=[3, 48],n_jobs=-1, progress='tqdm')\n",
    "    return fg\n",
    "\n",
    "\n",
    "def add_columns(peaks_df: DataFrame, data_dict: DataFrame) -> DataFrame :\n",
    "    \"\"\"Add metadata to fooof results\n",
    "\n",
    "    Args:\n",
    "        peaks_df (DataFrame): dataframe containing fooof results\n",
    "        data_dict (DataFrame): dataframe containing metadata related to trial\n",
    "\n",
    "    Returns:\n",
    "        DataFrame: [description]\n",
    "    \"\"\"\n",
    "    temp_df = pd.DataFrame()   \n",
    "    temp_df[\"ROI\"] = data_dict[\"row_names\"]\n",
    "    temp_df.insert(0, 'ID', temp_df.index)\n",
    "    temp_df[\"subject_cond\"] = data_dict[\"subject_cond\"]\n",
    "    temp_df[\"subjectID\"] = data_dict[\"subject_cond\"][:-2]\n",
    "    temp_df[\"subject_cond\"] = temp_df['subject_cond'].astype('category').str.strip()\n",
    "    temp_df[\"condition\"] = data_dict[\"condition\"]\n",
    "    temp_df[\"S\"] = data_dict[\"condition\"]\n",
    "\n",
    "    temp_df[\"resample\"] = data_dict[\"resample\"]\n",
    "    x = {'01_resample':'pre', '03_resample':'pre', '02_resample':'post','04_resample':'post'}\n",
    "    temp_df['P'] = temp_df['resample'].map(x)\n",
    "    peaks_df = peaks_df.join(temp_df.set_index('ID'), on='ID')\n",
    "    return peaks_df\n",
    "\n",
    "\n",
    "\n",
    "\n",
    "def run_pipeline(data_path:str, coding_path: str) -> DataFrame:\n",
    "    \"\"\"Load data and output  dataframe\n",
    "\n",
    "    Returns:\n",
    "        DataFrame: Values from FOOOF model together with metadata for all subjects\n",
    "    \"\"\"\n",
    "\n",
    "    print(data_path)\n",
    "    pathlist = Path(data_path).rglob('*.mat')\n",
    "    pandas_list = []\n",
    "    for path in pathlist:\n",
    "        peaks_df=  process_single_recording_session(path)\n",
    "        pandas_list.append(peaks_df)\n",
    "    df = pd.concat(pandas_list)\n",
    "    df2 = load_conditions_coding(coding_path)\n",
    "    return df.merge(df2, left_on='subject_cond', right_on='subject_cond')\n",
    "\n",
    "\n",
    "def format_dataframe(final , list_of_columns) -> DataFrame:\n",
    "    final[\"subjectID\"] = final.subjectID.str.replace(' ', '') #trick with replacing\n",
    "    final_export = final[list_of_columns]\n",
    "    final_export = final_export.drop_duplicates()\n",
    "    final_export = final_export.sort_values(by=['subjectID','ROI', \"T\", \"P\"])\n",
    "\n",
    "    return final_export"
   ]
  },
  {
   "attachments": {},
   "cell_type": "markdown",
   "id": "b4b532cb-cf78-4d1d-96bb-cf5e95a80581",
   "metadata": {
    "pycharm": {
     "name": "#%% md\n"
    }
   },
   "source": [
    "# Get fooofed data in the loop"
   ]
  },
  {
   "cell_type": "code",
   "execution_count": 5,
   "id": "c72b55e0",
   "metadata": {
    "pycharm": {
     "name": "#%%\n"
    }
   },
   "outputs": [
    {
     "name": "stdout",
     "output_type": "stream",
     "text": [
      "/Users/daniel/PhD/Projects/projects-notes/Projects/102 Publish the analysis of the Pellegrino MEG data/MEG-ASSR Pipeline/data/matlab/tDCS_MEG\n"
     ]
    },
    {
     "ename": "KeyError",
     "evalue": "'TF'",
     "output_type": "error",
     "traceback": [
      "\u001b[0;31m---------------------------------------------------------------------------\u001b[0m",
      "\u001b[0;31mKeyError\u001b[0m                                  Traceback (most recent call last)",
      "Cell \u001b[0;32mIn[5], line 4\u001b[0m\n\u001b[1;32m      2\u001b[0m data_path \u001b[39m=\u001b[39m root \u001b[39m/\u001b[39m \u001b[39m'\u001b[39m\u001b[39mdata\u001b[39m\u001b[39m'\u001b[39m \u001b[39m/\u001b[39m \u001b[39m'\u001b[39m\u001b[39mmatlab\u001b[39m\u001b[39m'\u001b[39m \u001b[39m/\u001b[39m \u001b[39m'\u001b[39m\u001b[39mtDCS_MEG\u001b[39m\u001b[39m'\u001b[39m\n\u001b[1;32m      3\u001b[0m coding_path \u001b[39m=\u001b[39m root \u001b[39m/\u001b[39m \u001b[39m'\u001b[39m\u001b[39mdata\u001b[39m\u001b[39m'\u001b[39m \u001b[39m/\u001b[39m \u001b[39m'\u001b[39m\u001b[39mmetadata\u001b[39m\u001b[39m'\u001b[39m \u001b[39m/\u001b[39m \u001b[39m'\u001b[39m\u001b[39mkeys.mat\u001b[39m\u001b[39m'\u001b[39m\n\u001b[0;32m----> 4\u001b[0m df \u001b[39m=\u001b[39m run_pipeline(data_path,coding_path)\n",
      "Cell \u001b[0;32mIn[4], line 165\u001b[0m, in \u001b[0;36mrun_pipeline\u001b[0;34m(data_path, coding_path)\u001b[0m\n\u001b[1;32m    163\u001b[0m pandas_list \u001b[39m=\u001b[39m []\n\u001b[1;32m    164\u001b[0m \u001b[39mfor\u001b[39;00m path \u001b[39min\u001b[39;00m pathlist:\n\u001b[0;32m--> 165\u001b[0m     peaks_df\u001b[39m=\u001b[39m  process_single_recording_session(path)\n\u001b[1;32m    166\u001b[0m     pandas_list\u001b[39m.\u001b[39mappend(peaks_df)\n\u001b[1;32m    167\u001b[0m df \u001b[39m=\u001b[39m pd\u001b[39m.\u001b[39mconcat(pandas_list)\n",
      "Cell \u001b[0;32mIn[4], line 12\u001b[0m, in \u001b[0;36mprocess_single_recording_session\u001b[0;34m(path)\u001b[0m\n\u001b[1;32m      2\u001b[0m \u001b[39m\u001b[39m\u001b[39m\"\"\"[summary]\u001b[39;00m\n\u001b[1;32m      3\u001b[0m \n\u001b[1;32m      4\u001b[0m \u001b[39mArgs:\u001b[39;00m\n\u001b[0;32m   (...)\u001b[0m\n\u001b[1;32m      8\u001b[0m \u001b[39m    DataFrame: [description]\u001b[39;00m\n\u001b[1;32m      9\u001b[0m \u001b[39m\"\"\"\u001b[39;00m\n\u001b[1;32m     11\u001b[0m \u001b[39mtry\u001b[39;00m:    \n\u001b[0;32m---> 12\u001b[0m     data_dict \u001b[39m=\u001b[39m  mat2dict_scout_psd(path)\n\u001b[1;32m     13\u001b[0m     freqs_data  \u001b[39m=\u001b[39m data_dict[\u001b[39m\"\u001b[39m\u001b[39mfreqs\u001b[39m\u001b[39m\"\u001b[39m] \n\u001b[1;32m     14\u001b[0m     powers_data \u001b[39m=\u001b[39m data_dict[\u001b[39m\"\u001b[39m\u001b[39mpowers\u001b[39m\u001b[39m\"\u001b[39m]\n",
      "Cell \u001b[0;32mIn[4], line 47\u001b[0m, in \u001b[0;36mmat2dict_scout_psd\u001b[0;34m(path)\u001b[0m\n\u001b[1;32m     44\u001b[0m \u001b[39m#print(sorted(mat_content.keys()))\u001b[39;00m\n\u001b[1;32m     45\u001b[0m \u001b[39m#print(mat_content[\"TF\"])\u001b[39;00m\n\u001b[1;32m     46\u001b[0m mat_content \u001b[39m=\u001b[39m sio\u001b[39m.\u001b[39mloadmat(path)\n\u001b[0;32m---> 47\u001b[0m tf \u001b[39m=\u001b[39m np\u001b[39m.\u001b[39mndarray\u001b[39m.\u001b[39msqueeze(mat_content[\u001b[39m\"\u001b[39;49m\u001b[39mTF\u001b[39;49m\u001b[39m\"\u001b[39;49m])\n\u001b[1;32m     48\u001b[0m row_names \u001b[39m=\u001b[39m mat_content[\u001b[39m\"\u001b[39m\u001b[39mRowNames\u001b[39m\u001b[39m\"\u001b[39m]\n\u001b[1;32m     49\u001b[0m row_names \u001b[39m=\u001b[39m get_real_names(row_names)\n",
      "\u001b[0;31mKeyError\u001b[0m: 'TF'"
     ]
    }
   ],
   "source": [
    "root= get_project_root()\n",
    "data_path = root / 'data' / 'matlab' / 'tDCS_MEG'\n",
    "coding_path = root / 'data' / 'metadata' / 'keys.mat'\n",
    "df = run_pipeline(data_path,coding_path)"
   ]
  },
  {
   "attachments": {},
   "cell_type": "markdown",
   "id": "3854df9e-fc84-46cb-88d1-048aca8bf9e6",
   "metadata": {
    "pycharm": {
     "name": "#%% md\n"
    }
   },
   "source": [
    "# Format dataframe in a specific way "
   ]
  },
  {
   "cell_type": "code",
   "execution_count": 6,
   "id": "89f65b95-473d-4dcf-bf52-a860a1481784",
   "metadata": {
    "pycharm": {
     "name": "#%%\n"
    }
   },
   "outputs": [],
   "source": [
    "list_of_columns = ['subjectID','S', 'T', 'P', 'ROI','offset','exponent','errors','r2s']\n",
    "final = format_dataframe(df,  list_of_columns)\n",
    "csv_path = root / 'output' / 'share' / 'ROI_offset_exponent_dataframe.csv'\n",
    "final.to_csv(csv_path, index = False, header=True)"
   ]
  },
  {
   "attachments": {},
   "cell_type": "markdown",
   "id": "8f4c1bf8-59ea-4b11-b906-58e34e4406bb",
   "metadata": {
    "pycharm": {
     "name": "#%% md\n"
    }
   },
   "source": [
    "# Examine the conditions"
   ]
  },
  {
   "cell_type": "code",
   "execution_count": 7,
   "id": "e0273f7b-8506-4bab-a698-936329aeafbc",
   "metadata": {
    "pycharm": {
     "name": "#%%\n"
    }
   },
   "outputs": [],
   "source": [
    "def check_outliers(df, column_name, thresh):\n",
    "    \"\"\"Calculate indices of outliers, as defined by a standard deviation threshold.\"\"\"\n",
    "    data =  df[column_name]\n",
    "    return df[data < thresh ]"
   ]
  },
  {
   "cell_type": "code",
   "execution_count": 8,
   "id": "0fb8f06a-b0f4-424a-9e0e-f18dd2e35df0",
   "metadata": {
    "pycharm": {
     "name": "#%%\n"
    }
   },
   "outputs": [
    {
     "data": {
      "text/plain": [
       "<AxesSubplot:>"
      ]
     },
     "execution_count": 8,
     "metadata": {},
     "output_type": "execute_result"
    },
    {
     "data": {
      "image/png": "[encoded data removed]",
      "text/plain": [
       "<Figure size 432x288 with 1 Axes>"
      ]
     },
     "metadata": {
      "needs_background": "light"
     },
     "output_type": "display_data"
    }
   ],
   "source": [
    "std_outliers = check_outliers(df, \"r2s\", 0.9)\n",
    "std_outliers[\"r2s\"].hist()"
   ]
  },
  {
   "attachments": {},
   "cell_type": "markdown",
   "id": "843507d4-0f77-4d14-9a1b-26c68d79a554",
   "metadata": {
    "pycharm": {
     "name": "#%% md\n"
    }
   },
   "source": [
    "# Example - Average on one specific ROI"
   ]
  },
  {
   "cell_type": "code",
   "execution_count": 12,
   "id": "4220b05a-8028-4002-a3a6-6cd51a727ac0",
   "metadata": {
    "pycharm": {
     "name": "#%%\n"
    }
   },
   "outputs": [
    {
     "data": {
      "text/html": [
       "<div>\n",
       "<style scoped>\n",
       "    .dataframe tbody tr th:only-of-type {\n",
       "        vertical-align: middle;\n",
       "    }\n",
       "\n",
       "    .dataframe tbody tr th {\n",
       "        vertical-align: top;\n",
       "    }\n",
       "\n",
       "    .dataframe thead th {\n",
       "        text-align: right;\n",
       "    }\n",
       "</style>\n",
       "<table border=\"1\" class=\"dataframe\">\n",
       "  <thead>\n",
       "    <tr style=\"text-align: right;\">\n",
       "      <th></th>\n",
       "      <th>subjectID</th>\n",
       "      <th>S</th>\n",
       "      <th>T</th>\n",
       "      <th>P</th>\n",
       "      <th>ROI</th>\n",
       "      <th>offset</th>\n",
       "      <th>exponent</th>\n",
       "      <th>errors</th>\n",
       "      <th>r2s</th>\n",
       "    </tr>\n",
       "  </thead>\n",
       "  <tbody>\n",
       "    <tr>\n",
       "      <th>23251</th>\n",
       "      <td>Subject01</td>\n",
       "      <td>PRESTIM</td>\n",
       "      <td>real</td>\n",
       "      <td>post</td>\n",
       "      <td>G_Ins_lg_and_S_cent_ins_L</td>\n",
       "      <td>-22.371743</td>\n",
       "      <td>0.958904</td>\n",
       "      <td>0.017749</td>\n",
       "      <td>0.995928</td>\n",
       "    </tr>\n",
       "    <tr>\n",
       "      <th>22750</th>\n",
       "      <td>Subject01</td>\n",
       "      <td>PRESTIM</td>\n",
       "      <td>real</td>\n",
       "      <td>pre</td>\n",
       "      <td>G_Ins_lg_and_S_cent_ins_L</td>\n",
       "      <td>-22.263523</td>\n",
       "      <td>1.086222</td>\n",
       "      <td>0.024018</td>\n",
       "      <td>0.992713</td>\n",
       "    </tr>\n",
       "    <tr>\n",
       "      <th>16868</th>\n",
       "      <td>Subject01</td>\n",
       "      <td>PRESTIM</td>\n",
       "      <td>sham</td>\n",
       "      <td>post</td>\n",
       "      <td>G_Ins_lg_and_S_cent_ins_L</td>\n",
       "      <td>-22.200775</td>\n",
       "      <td>1.129508</td>\n",
       "      <td>0.036272</td>\n",
       "      <td>0.988568</td>\n",
       "    </tr>\n",
       "    <tr>\n",
       "      <th>17709</th>\n",
       "      <td>Subject01</td>\n",
       "      <td>PRESTIM</td>\n",
       "      <td>sham</td>\n",
       "      <td>pre</td>\n",
       "      <td>G_Ins_lg_and_S_cent_ins_L</td>\n",
       "      <td>-22.117062</td>\n",
       "      <td>1.192250</td>\n",
       "      <td>0.024770</td>\n",
       "      <td>0.994684</td>\n",
       "    </tr>\n",
       "    <tr>\n",
       "      <th>32485</th>\n",
       "      <td>Subject02</td>\n",
       "      <td>PRESTIM</td>\n",
       "      <td>real</td>\n",
       "      <td>post</td>\n",
       "      <td>G_Ins_lg_and_S_cent_ins_L</td>\n",
       "      <td>-20.595597</td>\n",
       "      <td>1.555009</td>\n",
       "      <td>0.031866</td>\n",
       "      <td>0.995185</td>\n",
       "    </tr>\n",
       "    <tr>\n",
       "      <th>32951</th>\n",
       "      <td>Subject02</td>\n",
       "      <td>PRESTIM</td>\n",
       "      <td>real</td>\n",
       "      <td>pre</td>\n",
       "      <td>G_Ins_lg_and_S_cent_ins_L</td>\n",
       "      <td>-20.745733</td>\n",
       "      <td>1.464939</td>\n",
       "      <td>0.045010</td>\n",
       "      <td>0.988511</td>\n",
       "    </tr>\n",
       "    <tr>\n",
       "      <th>2951</th>\n",
       "      <td>Subject02</td>\n",
       "      <td>PRESTIM</td>\n",
       "      <td>sham</td>\n",
       "      <td>post</td>\n",
       "      <td>G_Ins_lg_and_S_cent_ins_L</td>\n",
       "      <td>-21.230887</td>\n",
       "      <td>1.303688</td>\n",
       "      <td>0.026604</td>\n",
       "      <td>0.995178</td>\n",
       "    </tr>\n",
       "    <tr>\n",
       "      <th>2477</th>\n",
       "      <td>Subject02</td>\n",
       "      <td>PRESTIM</td>\n",
       "      <td>sham</td>\n",
       "      <td>pre</td>\n",
       "      <td>G_Ins_lg_and_S_cent_ins_L</td>\n",
       "      <td>-21.217970</td>\n",
       "      <td>1.312977</td>\n",
       "      <td>0.035440</td>\n",
       "      <td>0.991363</td>\n",
       "    </tr>\n",
       "  </tbody>\n",
       "</table>\n",
       "</div>"
      ],
      "text/plain": [
       "       subjectID        S     T     P                        ROI     offset  \\\n",
       "23251  Subject01  PRESTIM  real  post  G_Ins_lg_and_S_cent_ins_L -22.371743   \n",
       "22750  Subject01  PRESTIM  real   pre  G_Ins_lg_and_S_cent_ins_L -22.263523   \n",
       "16868  Subject01  PRESTIM  sham  post  G_Ins_lg_and_S_cent_ins_L -22.200775   \n",
       "17709  Subject01  PRESTIM  sham   pre  G_Ins_lg_and_S_cent_ins_L -22.117062   \n",
       "32485  Subject02  PRESTIM  real  post  G_Ins_lg_and_S_cent_ins_L -20.595597   \n",
       "32951  Subject02  PRESTIM  real   pre  G_Ins_lg_and_S_cent_ins_L -20.745733   \n",
       "2951   Subject02  PRESTIM  sham  post  G_Ins_lg_and_S_cent_ins_L -21.230887   \n",
       "2477   Subject02  PRESTIM  sham   pre  G_Ins_lg_and_S_cent_ins_L -21.217970   \n",
       "\n",
       "       exponent    errors       r2s  \n",
       "23251  0.958904  0.017749  0.995928  \n",
       "22750  1.086222  0.024018  0.992713  \n",
       "16868  1.129508  0.036272  0.988568  \n",
       "17709  1.192250  0.024770  0.994684  \n",
       "32485  1.555009  0.031866  0.995185  \n",
       "32951  1.464939  0.045010  0.988511  \n",
       "2951   1.303688  0.026604  0.995178  \n",
       "2477   1.312977  0.035440  0.991363  "
      ]
     },
     "execution_count": 12,
     "metadata": {},
     "output_type": "execute_result"
    }
   ],
   "source": [
    "fdf = final[((final[\"subjectID\"] == \"Subject01\") | (final[\"subjectID\"] == \"Subject02\")) & (final[\"ROI\"] == \"G_Ins_lg_and_S_cent_ins_L\")]\n",
    "fdf = fdf[fdf[\"S\"] == \"PRESTIM\"]\n",
    "fdf"
   ]
  },
  {
   "cell_type": "code",
   "execution_count": 13,
   "id": "a635e7ee-0e7e-43d6-a1b0-bd212319bb0b",
   "metadata": {
    "pycharm": {
     "name": "#%%\n"
    }
   },
   "outputs": [
    {
     "data": {
      "text/html": [
       "<div>\n",
       "<style scoped>\n",
       "    .dataframe tbody tr th:only-of-type {\n",
       "        vertical-align: middle;\n",
       "    }\n",
       "\n",
       "    .dataframe tbody tr th {\n",
       "        vertical-align: top;\n",
       "    }\n",
       "\n",
       "    .dataframe thead th {\n",
       "        text-align: right;\n",
       "    }\n",
       "</style>\n",
       "<table border=\"1\" class=\"dataframe\">\n",
       "  <thead>\n",
       "    <tr style=\"text-align: right;\">\n",
       "      <th></th>\n",
       "      <th>T</th>\n",
       "      <th>P</th>\n",
       "      <th>ROI</th>\n",
       "      <th>offset</th>\n",
       "      <th>exponent</th>\n",
       "    </tr>\n",
       "  </thead>\n",
       "  <tbody>\n",
       "    <tr>\n",
       "      <th>0</th>\n",
       "      <td>real</td>\n",
       "      <td>post</td>\n",
       "      <td>G_Ins_lg_and_S_cent_ins_L</td>\n",
       "      <td>-21.483670</td>\n",
       "      <td>1.256957</td>\n",
       "    </tr>\n",
       "    <tr>\n",
       "      <th>1</th>\n",
       "      <td>real</td>\n",
       "      <td>pre</td>\n",
       "      <td>G_Ins_lg_and_S_cent_ins_L</td>\n",
       "      <td>-21.504628</td>\n",
       "      <td>1.275581</td>\n",
       "    </tr>\n",
       "    <tr>\n",
       "      <th>2</th>\n",
       "      <td>sham</td>\n",
       "      <td>post</td>\n",
       "      <td>G_Ins_lg_and_S_cent_ins_L</td>\n",
       "      <td>-21.715831</td>\n",
       "      <td>1.216598</td>\n",
       "    </tr>\n",
       "    <tr>\n",
       "      <th>3</th>\n",
       "      <td>sham</td>\n",
       "      <td>pre</td>\n",
       "      <td>G_Ins_lg_and_S_cent_ins_L</td>\n",
       "      <td>-21.667516</td>\n",
       "      <td>1.252614</td>\n",
       "    </tr>\n",
       "  </tbody>\n",
       "</table>\n",
       "</div>"
      ],
      "text/plain": [
       "      T     P                        ROI     offset  exponent\n",
       "0  real  post  G_Ins_lg_and_S_cent_ins_L -21.483670  1.256957\n",
       "1  real   pre  G_Ins_lg_and_S_cent_ins_L -21.504628  1.275581\n",
       "2  sham  post  G_Ins_lg_and_S_cent_ins_L -21.715831  1.216598\n",
       "3  sham   pre  G_Ins_lg_and_S_cent_ins_L -21.667516  1.252614"
      ]
     },
     "execution_count": 13,
     "metadata": {},
     "output_type": "execute_result"
    }
   ],
   "source": [
    "fdf = fdf.groupby([\"T\",\"P\", \"ROI\"]).mean().reset_index()\n",
    "fdf = fdf[[\"T\",\"P\", \"ROI\",'offset','exponent']]\n",
    "fdf"
   ]
  },
  {
   "cell_type": "code",
   "execution_count": null,
   "id": "902daeb2-6c16-4f48-a801-253b0336429b",
   "metadata": {
    "pycharm": {
     "name": "#%%\n"
    }
   },
   "outputs": [],
   "source": [
    "print(fdf.to_markdown())"
   ]
  },
  {
   "attachments": {},
   "cell_type": "markdown",
   "id": "c09baa44-4861-4ee0-b07e-c182de143b35",
   "metadata": {
    "pycharm": {
     "name": "#%% md\n"
    }
   },
   "source": [
    "# Average by subjects"
   ]
  },
  {
   "cell_type": "code",
   "execution_count": 14,
   "id": "98a03ff8-c344-4a15-a77e-784bfb6e2cfb",
   "metadata": {
    "pycharm": {
     "name": "#%%\n"
    }
   },
   "outputs": [
    {
     "data": {
      "text/html": [
       "<div>\n",
       "<style scoped>\n",
       "    .dataframe tbody tr th:only-of-type {\n",
       "        vertical-align: middle;\n",
       "    }\n",
       "\n",
       "    .dataframe tbody tr th {\n",
       "        vertical-align: top;\n",
       "    }\n",
       "\n",
       "    .dataframe thead th {\n",
       "        text-align: right;\n",
       "    }\n",
       "</style>\n",
       "<table border=\"1\" class=\"dataframe\">\n",
       "  <thead>\n",
       "    <tr style=\"text-align: right;\">\n",
       "      <th></th>\n",
       "      <th>T</th>\n",
       "      <th>P</th>\n",
       "      <th>ROI</th>\n",
       "      <th>offset</th>\n",
       "      <th>exponent</th>\n",
       "    </tr>\n",
       "  </thead>\n",
       "  <tbody>\n",
       "    <tr>\n",
       "      <th>0</th>\n",
       "      <td>real</td>\n",
       "      <td>post</td>\n",
       "      <td>G_Ins_lg_and_S_cent_ins_L</td>\n",
       "      <td>-21.678196</td>\n",
       "      <td>1.193868</td>\n",
       "    </tr>\n",
       "    <tr>\n",
       "      <th>1</th>\n",
       "      <td>real</td>\n",
       "      <td>post</td>\n",
       "      <td>G_Ins_lg_and_S_cent_ins_R</td>\n",
       "      <td>-21.655477</td>\n",
       "      <td>1.161558</td>\n",
       "    </tr>\n",
       "    <tr>\n",
       "      <th>2</th>\n",
       "      <td>real</td>\n",
       "      <td>post</td>\n",
       "      <td>G_and_S_cingul-Ant_L</td>\n",
       "      <td>-21.723008</td>\n",
       "      <td>0.966972</td>\n",
       "    </tr>\n",
       "    <tr>\n",
       "      <th>3</th>\n",
       "      <td>real</td>\n",
       "      <td>post</td>\n",
       "      <td>G_and_S_cingul-Ant_R</td>\n",
       "      <td>-21.833406</td>\n",
       "      <td>0.978669</td>\n",
       "    </tr>\n",
       "    <tr>\n",
       "      <th>4</th>\n",
       "      <td>real</td>\n",
       "      <td>post</td>\n",
       "      <td>G_and_S_cingul-Mid-Ant_L</td>\n",
       "      <td>-21.992732</td>\n",
       "      <td>1.061280</td>\n",
       "    </tr>\n",
       "    <tr>\n",
       "      <th>...</th>\n",
       "      <td>...</td>\n",
       "      <td>...</td>\n",
       "      <td>...</td>\n",
       "      <td>...</td>\n",
       "      <td>...</td>\n",
       "    </tr>\n",
       "    <tr>\n",
       "      <th>587</th>\n",
       "      <td>sham</td>\n",
       "      <td>pre</td>\n",
       "      <td>S_temporal_inf_R</td>\n",
       "      <td>-21.204743</td>\n",
       "      <td>1.037134</td>\n",
       "    </tr>\n",
       "    <tr>\n",
       "      <th>588</th>\n",
       "      <td>sham</td>\n",
       "      <td>pre</td>\n",
       "      <td>S_temporal_sup_L</td>\n",
       "      <td>-21.204904</td>\n",
       "      <td>1.207352</td>\n",
       "    </tr>\n",
       "    <tr>\n",
       "      <th>589</th>\n",
       "      <td>sham</td>\n",
       "      <td>pre</td>\n",
       "      <td>S_temporal_sup_R</td>\n",
       "      <td>-20.886362</td>\n",
       "      <td>1.263381</td>\n",
       "    </tr>\n",
       "    <tr>\n",
       "      <th>590</th>\n",
       "      <td>sham</td>\n",
       "      <td>pre</td>\n",
       "      <td>S_temporal_transverse_L</td>\n",
       "      <td>-20.956618</td>\n",
       "      <td>1.193699</td>\n",
       "    </tr>\n",
       "    <tr>\n",
       "      <th>591</th>\n",
       "      <td>sham</td>\n",
       "      <td>pre</td>\n",
       "      <td>S_temporal_transverse_R</td>\n",
       "      <td>-20.914222</td>\n",
       "      <td>1.229701</td>\n",
       "    </tr>\n",
       "  </tbody>\n",
       "</table>\n",
       "<p>592 rows × 5 columns</p>\n",
       "</div>"
      ],
      "text/plain": [
       "        T     P                        ROI     offset  exponent\n",
       "0    real  post  G_Ins_lg_and_S_cent_ins_L -21.678196  1.193868\n",
       "1    real  post  G_Ins_lg_and_S_cent_ins_R -21.655477  1.161558\n",
       "2    real  post       G_and_S_cingul-Ant_L -21.723008  0.966972\n",
       "3    real  post       G_and_S_cingul-Ant_R -21.833406  0.978669\n",
       "4    real  post   G_and_S_cingul-Mid-Ant_L -21.992732  1.061280\n",
       "..    ...   ...                        ...        ...       ...\n",
       "587  sham   pre           S_temporal_inf_R -21.204743  1.037134\n",
       "588  sham   pre           S_temporal_sup_L -21.204904  1.207352\n",
       "589  sham   pre           S_temporal_sup_R -20.886362  1.263381\n",
       "590  sham   pre    S_temporal_transverse_L -20.956618  1.193699\n",
       "591  sham   pre    S_temporal_transverse_R -20.914222  1.229701\n",
       "\n",
       "[592 rows x 5 columns]"
      ]
     },
     "execution_count": 14,
     "metadata": {},
     "output_type": "execute_result"
    }
   ],
   "source": [
    "list_of_columns = ['subjectID', 'S', 'T', 'P', 'ROI','offset','exponent','errors','r2s']\n",
    "avg_baseline = format_dataframe(df,  list_of_columns)\n",
    "avg_baseline = avg_baseline[avg_baseline[\"S\"] == \"PRESTIM\"]\n",
    "avg_baseline = avg_baseline.groupby([\"T\",\"P\", \"ROI\"]).mean().reset_index()\n",
    "avg_baseline = avg_baseline[[\"T\",\"P\", \"ROI\",'offset','exponent']]\n",
    "avg_baseline"
   ]
  },
  {
   "cell_type": "code",
   "execution_count": 15,
   "id": "39f6d97e-63bf-415a-9d7e-2a49fc6e8f53",
   "metadata": {
    "pycharm": {
     "name": "#%%\n"
    }
   },
   "outputs": [
    {
     "data": {
      "text/plain": [
       "<AxesSubplot:>"
      ]
     },
     "execution_count": 15,
     "metadata": {},
     "output_type": "execute_result"
    },
    {
     "data": {
      "image/png": "[encoded data removed]",
      "text/plain": [
       "<Figure size 432x288 with 1 Axes>"
      ]
     },
     "metadata": {
      "needs_background": "light"
     },
     "output_type": "display_data"
    }
   ],
   "source": [
    "avg_baseline.offset.hist()\n"
   ]
  },
  {
   "cell_type": "code",
   "execution_count": 16,
   "id": "8f9b57f1-1bf8-488e-9b2e-e772e336bbd0",
   "metadata": {
    "pycharm": {
     "name": "#%%\n"
    }
   },
   "outputs": [
    {
     "data": {
      "text/plain": [
       "<AxesSubplot:>"
      ]
     },
     "execution_count": 16,
     "metadata": {},
     "output_type": "execute_result"
    },
    {
     "data": {
      "image/png": "[encoded data removed]",
      "text/plain": [
       "<Figure size 432x288 with 1 Axes>"
      ]
     },
     "metadata": {
      "needs_background": "light"
     },
     "output_type": "display_data"
    }
   ],
   "source": [
    "avg_baseline.exponent.hist()"
   ]
  },
  {
   "cell_type": "code",
   "execution_count": 17,
   "id": "b26852e2-e258-4f6e-bac6-1de967a8e2ef",
   "metadata": {
    "pycharm": {
     "name": "#%%\n"
    }
   },
   "outputs": [],
   "source": [
    "baseline_path = root / 'output' / 'share' / 'averaged_by_subject_ROI_offset_exponent_dataframe.csv'\n",
    "avg_baseline.to_csv(baseline_path, index = False, header=True)"
   ]
  },
  {
   "cell_type": "code",
   "execution_count": null,
   "id": "35b4e236-b4e6-429d-bf89-dc217d47013b",
   "metadata": {
    "pycharm": {
     "name": "#%%\n"
    }
   },
   "outputs": [],
   "source": []
  },
  {
   "cell_type": "code",
   "execution_count": null,
   "id": "2dab1af8-daa9-4120-8fd0-0bf7dcde7463",
   "metadata": {
    "pycharm": {
     "name": "#%%\n"
    }
   },
   "outputs": [],
   "source": []
  }
 ],
 "metadata": {
  "jupytext": {
   "formats": "ipynb,py:percent"
  },
  "kernelspec": {
   "display_name": "lambic-3.11.2",
   "language": "python",
   "name": "lambic-3.11.2"
  },
  "language_info": {
   "codemirror_mode": {
    "name": "ipython",
    "version": 3
   },
   "file_extension": ".py",
   "mimetype": "text/x-python",
   "name": "python",
   "nbconvert_exporter": "python",
   "pygments_lexer": "ipython3",
   "version": "3.11.2"
  }
 },
 "nbformat": 4,
 "nbformat_minor": 5
}
