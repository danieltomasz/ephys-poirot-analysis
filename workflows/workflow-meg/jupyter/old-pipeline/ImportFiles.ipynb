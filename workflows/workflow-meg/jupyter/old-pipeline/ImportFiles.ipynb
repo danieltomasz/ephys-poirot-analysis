{
 "cells": [
  {
   "cell_type": "raw",
   "metadata": {},
   "source": [
    "---\n",
    "title: \"Untitled\"\n",
    "format: html\n",
    "---"
   ]
  },
  {
   "cell_type": "raw",
   "metadata": {},
   "source": [
    "# My analysis of tDCS data"
   ]
  },
  {
   "cell_type": "code",
   "execution_count": 1,
   "metadata": {},
   "outputs": [],
   "source": [
    "# get list of psd files\n",
    "from pathlib import Path\n",
    "import shutil\n",
    "\n",
    "data_path = Path(\"/Volumes/ExtremePro/Data/tDCS_MEG/data\")\n",
    "project_path = Path(\"/Users/daniel/PhD/Projects/projects-notes/Projects/102 Publish the analysis of the Pellegrino MEG data/102.05 Draft/data/brainstorm/timefreq_psd\")\n",
    "\n",
    "psd_files = sorted(data_path.glob('**/**/timefreq_psd_230401_*.mat'))\n"
   ]
  },
  {
   "cell_type": "code",
   "execution_count": 7,
   "metadata": {},
   "outputs": [
    {
     "name": "stdout",
     "output_type": "stream",
     "text": [
      "timefreq_psd_230401_0929.mat\n",
      "timefreq_psd_230401_1005.mat\n",
      "timefreq_psd_230401_1020.mat\n",
      "timefreq_psd_230401_1357.mat\n",
      "timefreq_psd_230401_1418.mat\n",
      "timefreq_psd_230401_1025.mat\n",
      "timefreq_psd_230401_1423.mat\n"
     ]
    }
   ],
   "source": [
    "for file in psd_files:\n",
    "    print(file.name)\n",
    "    shutil.copyfile(file, Path.joinpath(project_path , file.name))"
   ]
  },
  {
   "cell_type": "code",
   "execution_count": 13,
   "metadata": {},
   "outputs": [
    {
     "ename": "IndexError",
     "evalue": "list index out of range",
     "output_type": "error",
     "traceback": [
      "\u001b[0;31m---------------------------------------------------------------------------\u001b[0m",
      "\u001b[0;31mIndexError\u001b[0m                                Traceback (most recent call last)",
      "Cell \u001b[0;32mIn[13], line 5\u001b[0m\n\u001b[1;32m      3\u001b[0m reload_package(lambic)\n\u001b[1;32m      4\u001b[0m \u001b[39mfrom\u001b[39;00m \u001b[39mlambic\u001b[39;00m\u001b[39m.\u001b[39;00m\u001b[39mdata\u001b[39;00m \u001b[39mimport\u001b[39;00m mat2dict_scout_psd\n\u001b[0;32m----> 5\u001b[0m data_dict \u001b[39m=\u001b[39m mat2dict_scout_psd( Path\u001b[39m.\u001b[39;49mjoinpath(project_path , \u001b[39m\"\u001b[39;49m\u001b[39mtimefreq_psd_230401_0929.mat\u001b[39;49m\u001b[39m\"\u001b[39;49m))\n",
      "File \u001b[0;32m~/.pyenv/versions/lambic-3.11.2/lib/python3.11/site-packages/lambic/data.py:60\u001b[0m, in \u001b[0;36mmat2dict_scout_psd\u001b[0;34m(path)\u001b[0m\n\u001b[1;32m     58\u001b[0m row_names \u001b[39m=\u001b[39m get_real_names(row_names)\n\u001b[1;32m     59\u001b[0m freqs \u001b[39m=\u001b[39m np\u001b[39m.\u001b[39mndarray\u001b[39m.\u001b[39msqueeze(mat_content[\u001b[39m\"\u001b[39m\u001b[39mFreqs\u001b[39m\u001b[39m\"\u001b[39m])\n\u001b[0;32m---> 60\u001b[0m comment \u001b[39m=\u001b[39m mat_content[\u001b[39m\"\u001b[39;49m\u001b[39mComment\u001b[39;49m\u001b[39m\"\u001b[39;49m]\u001b[39m.\u001b[39;49mtolist()[\u001b[39m0\u001b[39;49m]\u001b[39m.\u001b[39;49msplit(\u001b[39m'\u001b[39;49m\u001b[39m|\u001b[39;49m\u001b[39m'\u001b[39;49m)[\u001b[39m1\u001b[39;49m]\n\u001b[1;32m     61\u001b[0m subject_cond \u001b[39m=\u001b[39m split(comment, \u001b[39m\"\u001b[39m\u001b[39m_\u001b[39m\u001b[39m\"\u001b[39m, \u001b[39m2\u001b[39m)[\u001b[39m0\u001b[39m]\n\u001b[1;32m     62\u001b[0m resample \u001b[39m=\u001b[39m split(split(comment, \u001b[39m\"\u001b[39m\u001b[39m_\u001b[39m\u001b[39m\"\u001b[39m, \u001b[39m5\u001b[39m)[\u001b[39m1\u001b[39m],\u001b[39m\"\u001b[39m\u001b[39m_\u001b[39m\u001b[39m\"\u001b[39m,\u001b[39m2\u001b[39m)[\u001b[39m0\u001b[39m]\n",
      "\u001b[0;31mIndexError\u001b[0m: list index out of range"
     ]
    }
   ],
   "source": [
    "from poirot.utils import reload_package\n",
    "import poirot\n",
    "reload_package(poirot)\n",
    "from poirot.data import mat2dict_scout_psd\n",
    "data_dict = mat2dict_scout_psd( Path.joinpath(project_path , \"timefreq_psd_230401_0929.mat\"))"
   ]
  },
  {
   "cell_type": "code",
   "execution_count": 4,
   "metadata": {},
   "outputs": [
    {
     "data": {
      "text/plain": [
       "[PosixPath('/Volumes/ExtremePro/Data/tDCS_MEG/data/Subject01_A/@intra/timefreq_psd_230401_0929.mat'),\n",
       " PosixPath('/Volumes/ExtremePro/Data/tDCS_MEG/data/Subject01_A/S001_ISRASSR_20170220_01_resample/timefreq_psd_230401_1005.mat'),\n",
       " PosixPath('/Volumes/ExtremePro/Data/tDCS_MEG/data/Subject01_A/S001_ISRASSR_20170220_01_resample/timefreq_psd_230401_1020.mat'),\n",
       " PosixPath('/Volumes/ExtremePro/Data/tDCS_MEG/data/Subject01_A/S001_ISRASSR_20170220_01_resample/timefreq_psd_230401_1357.mat'),\n",
       " PosixPath('/Volumes/ExtremePro/Data/tDCS_MEG/data/Subject01_A/S001_ISRASSR_20170220_01_resample/timefreq_psd_230401_1418.mat'),\n",
       " PosixPath('/Volumes/ExtremePro/Data/tDCS_MEG/data/Subject01_A/S001_ISRASSR_20170220_02_resample/timefreq_psd_230401_1025.mat'),\n",
       " PosixPath('/Volumes/ExtremePro/Data/tDCS_MEG/data/Subject01_A/S001_ISRASSR_20170220_02_resample/timefreq_psd_230401_1423.mat')]"
      ]
     },
     "execution_count": 4,
     "metadata": {},
     "output_type": "execute_result"
    }
   ],
   "source": [
    "psd_files"
   ]
  },
  {
   "cell_type": "code",
   "execution_count": null,
   "metadata": {},
   "outputs": [],
   "source": [
    "import shutil\n",
    "\n"
   ]
  }
 ],
 "metadata": {
  "kernelspec": {
   "display_name": "poirot-3.11.3",
   "language": "python",
   "name": "python3"
  },
  "language_info": {
   "codemirror_mode": {
    "name": "ipython",
    "version": 3
   },
   "file_extension": ".py",
   "mimetype": "text/x-python",
   "name": "python",
   "nbconvert_exporter": "python",
   "pygments_lexer": "ipython3",
   "version": "3.11.3"
  },
  "orig_nbformat": 4
 },
 "nbformat": 4,
 "nbformat_minor": 2
}
